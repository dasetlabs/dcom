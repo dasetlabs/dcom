{
 "cells": [
  {
   "cell_type": "markdown",
   "metadata": {},
   "source": [
    "# Libraries "
   ]
  },
  {
   "cell_type": "code",
   "execution_count": null,
   "metadata": {},
   "outputs": [],
   "source": [
    "#Import Libraries\n",
    "from models import DCoMModel\n",
    "import pandas as pd\n",
    "from config import USE_AUX, MODEL_TYPE, PADDING_LEN, VOCAB_SIZE, TRAIN_CSV_PATH, VALID_CSV_PATH, BATCH_SIZE, \\\n",
    "    OPTIMIZER, MODEL_SAVE_DIR, INITIAL_METADATA_PATH, INITIAL_MODEL_WEIGHT_PATH, TEST_CSV_PATH, \\\n",
    "    TEST_SAMPLES_PER_INSTANCE\n",
    "from ast import literal_eval"
   ]
  },
  {
   "cell_type": "markdown",
   "metadata": {},
   "source": [
    "# Train Model "
   ]
  },
  {
   "cell_type": "code",
   "execution_count": null,
   "metadata": {},
   "outputs": [],
   "source": [
    "#Import train and valid data\n",
    "model = DCoMModel(USE_AUX, MODEL_TYPE, PADDING_LEN, VOCAB_SIZE)\n",
    "train = pd.read_csv(TRAIN_CSV_PATH)\n",
    "train[\"values\"] = train[\"values\"].apply(lambda x: literal_eval(x))\n",
    "valid = pd.read_csv(VALID_CSV_PATH)\n",
    "valid[\"values\"] = valid[\"values\"].apply(lambda x: literal_eval(x))\n",
    "model.fit(train, valid, BATCH_SIZE, OPTIMIZER, MODEL_SAVE_DIR, INITIAL_MODEL_WEIGHT_PATH, INITIAL_METADATA_PATH)"
   ]
  },
  {
   "cell_type": "markdown",
   "metadata": {},
   "source": [
    "# Model Predictions "
   ]
  },
  {
   "cell_type": "code",
   "execution_count": null,
   "metadata": {},
   "outputs": [],
   "source": [
    "#Predict Instances\n",
    "model = DCoMModel(USE_AUX, MODEL_TYPE, PADDING_LEN, VOCAB_SIZE)\n",
    "model.load_metadata(INITIAL_METADATA_PATH)\n",
    "model.load_model(INITIAL_MODEL_WEIGHT_PATH)\n",
    "\n",
    "test = pd.read_csv(TEST_CSV_PATH).head(5)\n",
    "test[\"values\"] = test[\"values\"].apply(lambda x: literal_eval(x))\n",
    "\n",
    "preds = model.predict(test, BATCH_SIZE, TEST_SAMPLES_PER_INSTANCE)\n",
    "print(preds)"
   ]
  }
 ],
 "metadata": {
  "kernelspec": {
   "display_name": "Python 3",
   "language": "python",
   "name": "python3"
  },
  "language_info": {
   "codemirror_mode": {
    "name": "ipython",
    "version": 3
   },
   "file_extension": ".py",
   "mimetype": "text/x-python",
   "name": "python",
   "nbconvert_exporter": "python",
   "pygments_lexer": "ipython3",
   "version": "3.7.4"
  }
 },
 "nbformat": 4,
 "nbformat_minor": 2
}
